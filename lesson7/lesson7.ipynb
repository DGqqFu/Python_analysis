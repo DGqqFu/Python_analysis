{
 "cells": [
  {
   "cell_type": "code",
   "execution_count": null,
   "id": "e5acb812",
   "metadata": {},
   "outputs": [],
   "source": [
    "height:int = int(input(\"請輸入身高公分\"))\n",
    "weight:int = int(input(\"請輸入體重公斤\"))\n",
    "BMI = round(weight/pow(height/100,2),1)\n",
    "\n",
    "print(f\"身高:{height}\"\"cm\")\n",
    "print(f\"體重:{weight}\"\"kg\")\n",
    "print(f\"BMI:{BMI}\")\n",
    "\n",
    "if BMI < 18.5:\n",
    "    status = \"體重過輕\"\n",
    "elif BMI < 24:\n",
    "    status = \"正常\"\n",
    "elif BMI < 27:\n",
    "    status = \"過重\"\n",
    "elif BMI < 30:\n",
    "    status = \"輕度肥胖\"\n",
    "elif BMI <35:\n",
    "    status = \"中度肥胖\"\n",
    "else:\n",
    "    status = \"重度肥胖\"\n",
    "print(f\"狀態:{status}\")\n"
   ]
  },
  {
   "cell_type": "code",
   "execution_count": 1,
   "id": "01509438",
   "metadata": {},
   "outputs": [
    {
     "data": {
      "text/plain": [
       "{'__name__': '__main__',\n",
       " '__doc__': 'Automatically created module for IPython interactive environment',\n",
       " '__package__': None,\n",
       " '__loader__': None,\n",
       " '__spec__': None,\n",
       " '__builtin__': <module 'builtins' (built-in)>,\n",
       " '__builtins__': <module 'builtins' (built-in)>,\n",
       " '_ih': ['', 'vars()'],\n",
       " '_oh': {},\n",
       " '_dh': [PosixPath('/workspaces/Python_analysis/lesson7')],\n",
       " 'In': ['', 'vars()'],\n",
       " 'Out': {},\n",
       " 'get_ipython': <bound method InteractiveShell.get_ipython of <ipykernel.zmqshell.ZMQInteractiveShell object at 0x7fb8ca70cec0>>,\n",
       " 'exit': <IPython.core.autocall.ZMQExitAutocall at 0x7fb8ca70c410>,\n",
       " 'quit': <IPython.core.autocall.ZMQExitAutocall at 0x7fb8ca70c410>,\n",
       " 'open': <function _io.open(file, mode='r', buffering=-1, encoding=None, errors=None, newline=None, closefd=True, opener=None)>,\n",
       " '_': '',\n",
       " '__': '',\n",
       " '___': '',\n",
       " '__vsc_ipynb_file__': '/workspaces/Python_analysis/lesson7/lesson7.ipynb',\n",
       " '_i': '',\n",
       " '_ii': '',\n",
       " '_iii': '',\n",
       " '_i1': 'vars()'}"
      ]
     },
     "execution_count": 1,
     "metadata": {},
     "output_type": "execute_result"
    }
   ],
   "source": [
    "vars()\n"
   ]
  }
 ],
 "metadata": {
  "kernelspec": {
   "display_name": "base",
   "language": "python",
   "name": "python3"
  },
  "language_info": {
   "codemirror_mode": {
    "name": "ipython",
    "version": 3
   },
   "file_extension": ".py",
   "mimetype": "text/x-python",
   "name": "python",
   "nbconvert_exporter": "python",
   "pygments_lexer": "ipython3",
   "version": "3.12.7"
  }
 },
 "nbformat": 4,
 "nbformat_minor": 5
}
