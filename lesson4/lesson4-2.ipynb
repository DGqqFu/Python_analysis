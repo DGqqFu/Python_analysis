{
 "cells": [
  {
   "cell_type": "code",
   "execution_count": 2,
   "id": "e1700830",
   "metadata": {},
   "outputs": [
    {
     "name": "stdout",
     "output_type": "stream",
     "text": [
      "這是單向選擇\n",
      "這是  True的程式區塊\n"
     ]
    }
   ],
   "source": [
    "if True:\n",
    "    print(\"這是單向選擇\")\n",
    "    print(\"這是  True的程式區塊\")\n"
   ]
  },
  {
   "cell_type": "code",
   "execution_count": 3,
   "id": "c329768f",
   "metadata": {},
   "outputs": [
    {
     "name": "stdout",
     "output_type": "stream",
     "text": [
      "這是雙向選擇\n",
      "這是False的程式區塊\n"
     ]
    }
   ],
   "source": [
    "if False:\n",
    "    print(\"這是雙向選擇\")\n",
    "    print(\"這是  True的程式區塊\")\n",
    "else:\n",
    "    print(\"這是雙向選擇\")\n",
    "    print(\"這是False的程式區塊\")"
   ]
  }
 ],
 "metadata": {
  "kernelspec": {
   "display_name": "base",
   "language": "python",
   "name": "python3"
  },
  "language_info": {
   "codemirror_mode": {
    "name": "ipython",
    "version": 3
   },
   "file_extension": ".py",
   "mimetype": "text/x-python",
   "name": "python",
   "nbconvert_exporter": "python",
   "pygments_lexer": "ipython3",
   "version": "3.12.7"
  }
 },
 "nbformat": 4,
 "nbformat_minor": 5
}
