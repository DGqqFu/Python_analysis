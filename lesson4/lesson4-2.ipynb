{
 "cells": [
  {
   "cell_type": "code",
   "execution_count": 2,
   "id": "e1700830",
   "metadata": {},
   "outputs": [
    {
     "name": "stdout",
     "output_type": "stream",
     "text": [
      "這是單向選擇\n",
      "這是  True的程式區塊\n"
     ]
    }
   ],
   "source": [
    "if True:\n",
    "    print(\"這是單向選擇\")\n",
    "    print(\"這是  True的程式區塊\")\n"
   ]
  },
  {
   "cell_type": "code",
   "execution_count": 3,
   "id": "c329768f",
   "metadata": {},
   "outputs": [
    {
     "name": "stdout",
     "output_type": "stream",
     "text": [
      "這是雙向選擇\n",
      "這是False的程式區塊\n"
     ]
    }
   ],
   "source": [
    "if False:\n",
    "    print(\"這是雙向選擇\")\n",
    "    print(\"這是  True的程式區塊\")\n",
    "else:\n",
    "    print(\"這是雙向選擇\")\n",
    "    print(\"這是False的程式區塊\")"
   ]
  },
  {
   "cell_type": "code",
   "execution_count": 6,
   "id": "16104b16",
   "metadata": {},
   "outputs": [
    {
     "data": {
      "text/plain": [
       "False"
      ]
     },
     "execution_count": 6,
     "metadata": {},
     "output_type": "execute_result"
    }
   ],
   "source": [
    "5>3\n",
    "20==20\n",
    "20!=20"
   ]
  },
  {
   "cell_type": "code",
   "execution_count": 7,
   "id": "cb81130e",
   "metadata": {},
   "outputs": [
    {
     "name": "stdout",
     "output_type": "stream",
     "text": [
      "未成年\n"
     ]
    }
   ],
   "source": [
    "age=int(input(\"請輸入age:\"))\n",
    "if age < 18:\n",
    "    print(\"未成年\")\n",
    "else:\n",
    "    print(\"成年\")"
   ]
  },
  {
   "cell_type": "code",
   "execution_count": 10,
   "id": "912ba20c",
   "metadata": {},
   "outputs": [
    {
     "name": "stdout",
     "output_type": "stream",
     "text": [
      "你的分數為:300\n"
     ]
    }
   ],
   "source": [
    "s=int(input(\"請輸入學生分數(最高300分):\"))\n",
    "i=input(\"學生是否符合加分條件?(yes,no):\")\n",
    "if i==\"yes\":\n",
    "    s*=1.05\n",
    "    if s>300:\n",
    "        s=300\n",
    "print(f\"你的分數為:{round(s)}\")"
   ]
  },
  {
   "cell_type": "code",
   "execution_count": 11,
   "id": "f933355f",
   "metadata": {},
   "outputs": [
    {
     "name": "stdout",
     "output_type": "stream",
     "text": [
      "發生錯誤\n"
     ]
    }
   ],
   "source": [
    "try:\n",
    "    25 / 0\n",
    "except:\n",
    "    print(\"發生錯誤\")"
   ]
  },
  {
   "cell_type": "code",
   "execution_count": 12,
   "id": "3e4425d3",
   "metadata": {},
   "outputs": [
    {
     "name": "stdout",
     "output_type": "stream",
     "text": [
      "發生錯誤\n",
      "程式結束\n"
     ]
    }
   ],
   "source": [
    "divitionBy = 0\n",
    "try:\n",
    "    print(25 / divitionBy)\n",
    "except:\n",
    "    print(\"發生錯誤\")\n",
    "\n",
    "print(\"程式結束\")"
   ]
  },
  {
   "cell_type": "code",
   "execution_count": 13,
   "id": "94b42e04",
   "metadata": {},
   "outputs": [
    {
     "name": "stdout",
     "output_type": "stream",
     "text": [
      "發生不知名的錯誤\n",
      "程式結束\n"
     ]
    }
   ],
   "source": [
    "divitionBy = 0\n",
    "try:\n",
    "    print(30 / \"10\")\n",
    "    print(25 / divitionBy)\n",
    "except ZeroDivisionError:\n",
    "    print(\"除數不可以是0\")\n",
    "except:\n",
    "    print(\"發生不知名的錯誤\")\n",
    "\n",
    "print(\"程式結束\")"
   ]
  },
  {
   "cell_type": "code",
   "execution_count": 14,
   "id": "eb547378",
   "metadata": {},
   "outputs": [
    {
     "name": "stdout",
     "output_type": "stream",
     "text": [
      "學生分數是:280\n",
      "應用程式結束\n"
     ]
    }
   ],
   "source": [
    "try:\n",
    "    scores = int(input(\"請輸入學生分數(最高300分):\"))\n",
    "    is_add = input(\"學生是否符合加分條件?(y,n)\")\n",
    "    if (is_add == \"y\"):\n",
    "        scores *= 1.05\n",
    "        if scores > 300:\n",
    "            scores = 300\n",
    "\n",
    "    print(f\"學生分數是:{round(scores)}\")\n",
    "except:\n",
    "    print(\"發生不知名錯誤!\")\n",
    "print(\"應用程式結束\")"
   ]
  }
 ],
 "metadata": {
  "kernelspec": {
   "display_name": "base",
   "language": "python",
   "name": "python3"
  },
  "language_info": {
   "codemirror_mode": {
    "name": "ipython",
    "version": 3
   },
   "file_extension": ".py",
   "mimetype": "text/x-python",
   "name": "python",
   "nbconvert_exporter": "python",
   "pygments_lexer": "ipython3",
   "version": "3.12.7"
  }
 },
 "nbformat": 4,
 "nbformat_minor": 5
}
