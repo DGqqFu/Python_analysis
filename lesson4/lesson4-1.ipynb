{
 "cells": [
  {
   "cell_type": "code",
   "execution_count": 3,
   "id": "3650715f",
   "metadata": {},
   "outputs": [
    {
     "name": "stdout",
     "output_type": "stream",
     "text": [
      "對邊:2.5\n",
      "斜邊:5.0\n",
      "徑度:0.5235987755982989\n",
      "角度:30.0\n"
     ]
    }
   ],
   "source": [
    "import math\n",
    "\n",
    "side=float(input(\"請輸入對邊:\"))\n",
    "aside=float(input(\"請輸入斜邊:\"))\n",
    "r=math.asin(side/aside)\n",
    "d=math.degrees(r)\n",
    "print(f\"對邊:{side}\\n斜邊:{aside}\\n徑度:{r}\\n角度:{round(d,ndigits=2)}\")"
   ]
  },
  {
   "cell_type": "code",
   "execution_count": 11,
   "id": "1ad25384",
   "metadata": {},
   "outputs": [
    {
     "name": "stdout",
     "output_type": "stream",
     "text": [
      "25.0 27.0 29.0\n",
      "平均:27.0\n",
      "標準差:2.0\n"
     ]
    }
   ],
   "source": [
    "import statistics\n",
    "\n",
    "n1=float(input(\"請輸入第一個數:\"))\n",
    "n2=float(input(\"請輸入第二個數:\"))\n",
    "n3=float(input(\"請輸入第三個數:\"))\n",
    "a=statistics.mean((n1,n2,n3))\n",
    "s=statistics.stdev((n1,n2,n3))\n",
    "print(n1,n2,n3)\n",
    "print(f\"平均:{a}\\n標準差:{s}\")"
   ]
  }
 ],
 "metadata": {
  "kernelspec": {
   "display_name": "base",
   "language": "python",
   "name": "python3"
  },
  "language_info": {
   "codemirror_mode": {
    "name": "ipython",
    "version": 3
   },
   "file_extension": ".py",
   "mimetype": "text/x-python",
   "name": "python",
   "nbconvert_exporter": "python",
   "pygments_lexer": "ipython3",
   "version": "3.12.7"
  }
 },
 "nbformat": 4,
 "nbformat_minor": 5
}
