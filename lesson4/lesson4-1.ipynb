{
 "cells": [
  {
   "cell_type": "code",
   "execution_count": 10,
   "id": "3650715f",
   "metadata": {},
   "outputs": [
    {
     "name": "stdout",
     "output_type": "stream",
     "text": [
      "對邊:2.5\n",
      "斜邊:5.0\n",
      "徑度:0.5235987755982989\n",
      "角度:30.0\n"
     ]
    }
   ],
   "source": [
    "import math\n",
    "\n",
    "side=float(input(\"請輸入對邊:\"))\n",
    "aside=float(input(\"請輸入斜邊:\"))\n",
    "r=math.asin(side/aside)\n",
    "d=math.degrees(r)\n",
    "print(f\"對邊:{side}\\n斜邊:{aside}\\n徑度:{r}\\n角度:{round(d,ndigits=2)}\")"
   ]
  }
 ],
 "metadata": {
  "kernelspec": {
   "display_name": "base",
   "language": "python",
   "name": "python3"
  },
  "language_info": {
   "codemirror_mode": {
    "name": "ipython",
    "version": 3
   },
   "file_extension": ".py",
   "mimetype": "text/x-python",
   "name": "python",
   "nbconvert_exporter": "python",
   "pygments_lexer": "ipython3",
   "version": "3.12.7"
  }
 },
 "nbformat": 4,
 "nbformat_minor": 5
}
