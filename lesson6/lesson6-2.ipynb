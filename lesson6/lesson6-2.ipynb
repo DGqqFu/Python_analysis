{
 "cells": [
  {
   "cell_type": "code",
   "execution_count": 3,
   "id": "e35543a2",
   "metadata": {},
   "outputs": [
    {
     "name": "stdout",
     "output_type": "stream",
     "text": [
      "=============猜數字遊戲=============\n",
      "\n",
      "\n",
      "在大點\n",
      "在大點\n",
      "再小點\n",
      "再小點\n",
      "在大點\n",
      "猜對了,總共猜了6次,答案是:83\n"
     ]
    }
   ],
   "source": [
    "import random\n",
    "min=1\n",
    "max=99\n",
    "t=random.randint(min,max)\n",
    "c=0\n",
    "print(\"=============猜數字遊戲=============\\n\\n\")\n",
    "while True:\n",
    "    n=int(input(f\"歡迎遊玩猜數字遊戲,退出請輸入[q],猜數字範圍 {min}~{max}\"))\n",
    "    c+=1\n",
    "    if n>=min and n<=max:\n",
    "        if n==t:\n",
    "            print(f\"猜對了,總共猜了{c}次,答案是:{n}\")\n",
    "            break\n",
    "        if n>t:\n",
    "            print(\"再小點\")\n",
    "            max=n-1\n",
    "        elif n<t :\n",
    "            print(\"在大點\")\n",
    "            min=n+1\n",
    "    else:\n",
    "        print(\"輸入錯誤\")"
   ]
  },
  {
   "cell_type": "code",
   "execution_count": null,
   "id": "c4c5b7e7",
   "metadata": {},
   "outputs": [],
   "source": [
    "import random\n",
    "min = 1\n",
    "max = 99\n",
    "count = 0\n",
    "target = random.randint(min, max)\n",
    "print(\"=========猜數字遊戲============\\n\\n\")\n",
    "#print(target)\n",
    "while(True):\n",
    "    keyin = int(input(f'猜數字範圍{min}~{max}'))\n",
    "    count += 1\n",
    "    if(keyin >= min and keyin <= max):\n",
    "        if(keyin == target):\n",
    "            print(f\"賓果!猜對了, 答案是:{target}\")\n",
    "            print(f\"您共猜了{count}次\")\n",
    "            break\n",
    "        elif keyin < target:\n",
    "            print(\"再大一點\")\n",
    "            min = keyin + 1\n",
    "        elif keyin > target:\n",
    "            print(\"再小一點\")\n",
    "            max = keyin - 1\n",
    "        print(f\"您已經猜了:{count}次\")\n",
    "    else:\n",
    "        print(\"請輸入提示範圍內的數字\")\n",
    "    \n",
    "    \n",
    "\n",
    "print(\"猜數字遊戲結束\")\n",
    "    "
   ]
  }
 ],
 "metadata": {
  "kernelspec": {
   "display_name": "base",
   "language": "python",
   "name": "python3"
  },
  "language_info": {
   "codemirror_mode": {
    "name": "ipython",
    "version": 3
   },
   "file_extension": ".py",
   "mimetype": "text/x-python",
   "name": "python",
   "nbconvert_exporter": "python",
   "pygments_lexer": "ipython3",
   "version": "3.12.7"
  }
 },
 "nbformat": 4,
 "nbformat_minor": 5
}
