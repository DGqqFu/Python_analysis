{
 "cells": [
  {
   "cell_type": "code",
   "execution_count": 2,
   "id": "66202d91",
   "metadata": {},
   "outputs": [
    {
     "name": "stdout",
     "output_type": "stream",
     "text": [
      "1\n",
      "3\n",
      "5\n",
      "7\n",
      "9\n"
     ]
    }
   ],
   "source": [
    "for i in (1,3,5,7,9):\n",
    "    print(i)"
   ]
  },
  {
   "cell_type": "code",
   "execution_count": 1,
   "id": "0345806a",
   "metadata": {},
   "outputs": [
    {
     "name": "stdout",
     "output_type": "stream",
     "text": [
      "1\n",
      "3\n",
      "5\n",
      "7\n",
      "9\n"
     ]
    }
   ],
   "source": [
    "for i in [1,3,5,7,9]:\n",
    "    print(i)"
   ]
  },
  {
   "cell_type": "code",
   "execution_count": 16,
   "id": "3bc0cc0f",
   "metadata": {},
   "outputs": [
    {
     "name": "stdout",
     "output_type": "stream",
     "text": [
      "i=1\n",
      "j=1  j=2  j=3  j=4  j=5  j=6  j=7  j=8  j=9  \n",
      "i=2\n",
      "j=1  j=2  j=3  j=4  j=5  j=6  j=7  j=8  j=9  \n",
      "i=3\n",
      "j=1  j=2  j=3  j=4  j=5  j=6  j=7  j=8  j=9  \n",
      "i=4\n",
      "j=1  j=2  j=3  j=4  j=5  j=6  j=7  j=8  j=9  \n",
      "i=5\n",
      "j=1  j=2  j=3  j=4  j=5  j=6  j=7  j=8  j=9  \n",
      "i=6\n",
      "j=1  j=2  j=3  j=4  j=5  j=6  j=7  j=8  j=9  \n",
      "i=7\n",
      "j=1  j=2  j=3  j=4  j=5  j=6  j=7  j=8  j=9  \n",
      "i=8\n",
      "j=1  j=2  j=3  j=4  j=5  j=6  j=7  j=8  j=9  \n",
      "i=9\n",
      "j=1  j=2  j=3  j=4  j=5  j=6  j=7  j=8  j=9  \n"
     ]
    }
   ],
   "source": [
    "for i in range(1,10):\n",
    "    print(f\"i={i}\")\n",
    "    for j in range(1,10):\n",
    "        print(f\"j={j} \",end=' ')\n",
    "    print()"
   ]
  },
  {
   "cell_type": "code",
   "execution_count": 20,
   "id": "d036a233",
   "metadata": {},
   "outputs": [
    {
     "name": "stdout",
     "output_type": "stream",
     "text": [
      "1 \n"
     ]
    }
   ],
   "source": [
    "i=1\n",
    "print(f\"{i:<2d}\")"
   ]
  },
  {
   "cell_type": "code",
   "execution_count": 21,
   "id": "286abb10",
   "metadata": {},
   "outputs": [
    {
     "name": "stdout",
     "output_type": "stream",
     "text": [
      "1 * 1 = 1  1 * 2 = 2  1 * 3 = 3  1 * 4 = 4  1 * 5 = 5  1 * 6 = 6  1 * 7 = 7  1 * 8 = 8  1 * 9 = 9  \n",
      "2 * 1 = 2  2 * 2 = 4  2 * 3 = 6  2 * 4 = 8  2 * 5 =10  2 * 6 =12  2 * 7 =14  2 * 8 =16  2 * 9 =18  \n",
      "3 * 1 = 3  3 * 2 = 6  3 * 3 = 9  3 * 4 =12  3 * 5 =15  3 * 6 =18  3 * 7 =21  3 * 8 =24  3 * 9 =27  \n",
      "4 * 1 = 4  4 * 2 = 8  4 * 3 =12  4 * 4 =16  4 * 5 =20  4 * 6 =24  4 * 7 =28  4 * 8 =32  4 * 9 =36  \n",
      "5 * 1 = 5  5 * 2 =10  5 * 3 =15  5 * 4 =20  5 * 5 =25  5 * 6 =30  5 * 7 =35  5 * 8 =40  5 * 9 =45  \n",
      "6 * 1 = 6  6 * 2 =12  6 * 3 =18  6 * 4 =24  6 * 5 =30  6 * 6 =36  6 * 7 =42  6 * 8 =48  6 * 9 =54  \n",
      "7 * 1 = 7  7 * 2 =14  7 * 3 =21  7 * 4 =28  7 * 5 =35  7 * 6 =42  7 * 7 =49  7 * 8 =56  7 * 9 =63  \n",
      "8 * 1 = 8  8 * 2 =16  8 * 3 =24  8 * 4 =32  8 * 5 =40  8 * 6 =48  8 * 7 =56  8 * 8 =64  8 * 9 =72  \n",
      "9 * 1 = 9  9 * 2 =18  9 * 3 =27  9 * 4 =36  9 * 5 =45  9 * 6 =54  9 * 7 =63  9 * 8 =72  9 * 9 =81  \n"
     ]
    }
   ],
   "source": [
    "for i in range(1,10):\n",
    "    for j in range(1,10):\n",
    "        print(f\"{i:<2d}*{j:2d} ={i*j:2d}\",end='  ')\n",
    "    print()"
   ]
  },
  {
   "cell_type": "code",
   "execution_count": 23,
   "id": "cb9e65a9",
   "metadata": {},
   "outputs": [
    {
     "name": "stdout",
     "output_type": "stream",
     "text": [
      "10的因數有:\n",
      "1  2  5  10  "
     ]
    }
   ],
   "source": [
    "n=int(input(\"請輸入數值:\"))\n",
    "print(f\"{n}的因數有:\")\n",
    "for i in range(1,n+1):\n",
    "    if n % i ==0:\n",
    "        print(f\"{i}\",end='  ')"
   ]
  },
  {
   "cell_type": "code",
   "execution_count": 30,
   "id": "cd53629f",
   "metadata": {},
   "outputs": [
    {
     "name": "stdout",
     "output_type": "stream",
     "text": [
      "90,50的公因數有: 1 2 5 10 "
     ]
    }
   ],
   "source": [
    "n1=int(input(\"請輸入數值1:\"))\n",
    "n2=int(input(\"請輸入數值2:\"))\n",
    "print(f\"{n1},{n2}的公因數有:\",end=' ')\n",
    "for i in range(1,n1+1):\n",
    "    if n1 % i ==0:\n",
    "        n1a=i\n",
    "        if n2 % n1a ==0:\n",
    "            print(f\"{n1a}\",end=' ')"
   ]
  },
  {
   "cell_type": "code",
   "execution_count": 42,
   "id": "be165e67",
   "metadata": {},
   "outputs": [
    {
     "name": "stdout",
     "output_type": "stream",
     "text": [
      "存夠了,已存了70000元,共花了4月\n"
     ]
    }
   ],
   "source": [
    "m=0\n",
    "t=0\n",
    "while m<30000:\n",
    "    if t>=1 :\n",
    "        a=int(input(f\"目前已存{m}元,請輸入第{t+1}月的錢:\"))\n",
    "    else:\n",
    "        a=int(input(f\"請輸入第{t+1}月的錢:\"))\n",
    "    m+=a\n",
    "    t+=1\n",
    "print(f\"存夠了,已存了{m}元,共花了{t}月\")"
   ]
  },
  {
   "cell_type": "code",
   "execution_count": 43,
   "id": "7f7447d0",
   "metadata": {},
   "outputs": [
    {
     "name": "stdout",
     "output_type": "stream",
     "text": [
      "恭喜!已經存夠了,存了1月,共存了80000元\n"
     ]
    }
   ],
   "source": [
    "deposit = 0\n",
    "month = 0\n",
    "while(True):\n",
    "    month += 1\n",
    "    input_money = int(input(f\"請輸入第{month}月份的存款:\"))\n",
    "    deposit += input_money\n",
    "    if(deposit>=30000):\n",
    "       break \n",
    "    \n",
    "\n",
    "print(f\"恭喜!已經存夠了,存了{month}月,共存了{deposit}元\")"
   ]
  },
  {
   "cell_type": "code",
   "execution_count": 48,
   "id": "a2c43fbb",
   "metadata": {},
   "outputs": [
    {
     "name": "stdout",
     "output_type": "stream",
     "text": [
      "7的平方為:49\n",
      "5的平方為:25\n",
      "9的平方為:81\n",
      "1的平方為:1\n"
     ]
    }
   ],
   "source": [
    "while True:\n",
    "    n=input(\"請輸入整數,輸入[q]離開:\")\n",
    "    if n==\"q\":\n",
    "        break\n",
    "    try:\n",
    "        n=int(n)\n",
    "    except:\n",
    "        print(\"輸入錯誤\")\n",
    "        continue\n",
    "    if n%2!=0:\n",
    "        print(f\"{n}的平方為:{n**2}\")\n",
    "    "
   ]
  },
  {
   "cell_type": "code",
   "execution_count": 51,
   "id": "f670e44e",
   "metadata": {},
   "outputs": [
    {
     "data": {
      "text/plain": [
       "70"
      ]
     },
     "execution_count": 51,
     "metadata": {},
     "output_type": "execute_result"
    }
   ],
   "source": [
    "import random\n",
    "rand_num = random.randint(1, 100)\n",
    "rand_num\n"
   ]
  },
  {
   "cell_type": "code",
   "execution_count": 60,
   "id": "77e445af",
   "metadata": {},
   "outputs": [
    {
     "name": "stdout",
     "output_type": "stream",
     "text": [
      "5\n",
      "2\n",
      "1\n",
      "4\n",
      "3\n",
      "end\n"
     ]
    }
   ],
   "source": [
    "import random\n",
    "l=[]\n",
    "t=0\n",
    "while t<=5:\n",
    "    n=random.randint(1,5)\n",
    "    if t==5:\n",
    "        break\n",
    "    if n in l:\n",
    "        continue\n",
    "    l.append(n)\n",
    "    print(n)\n",
    "    t+=1\n",
    "    \n",
    "print(\"end\")\n"
   ]
  }
 ],
 "metadata": {
  "kernelspec": {
   "display_name": "base",
   "language": "python",
   "name": "python3"
  },
  "language_info": {
   "codemirror_mode": {
    "name": "ipython",
    "version": 3
   },
   "file_extension": ".py",
   "mimetype": "text/x-python",
   "name": "python",
   "nbconvert_exporter": "python",
   "pygments_lexer": "ipython3",
   "version": "3.12.7"
  }
 },
 "nbformat": 4,
 "nbformat_minor": 5
}
