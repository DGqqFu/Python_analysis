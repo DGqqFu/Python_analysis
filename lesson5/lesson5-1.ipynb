{
 "cells": [
  {
   "cell_type": "code",
   "execution_count": null,
   "id": "f4520397",
   "metadata": {},
   "outputs": [
    {
     "name": "stdout",
     "output_type": "stream",
     "text": [
      "貓\n"
     ]
    }
   ],
   "source": [
    "furry:bool=True\n",
    "small:bool=True\n",
    "\n",
    "if furry :\n",
    "    if small:\n",
    "        print(\"貓\")\n",
    "    else:\n",
    "        print(\"熊\")\n",
    "else:\n",
    "    if small:\n",
    "        print(\"蜥蜴\")\n",
    "    else:\n",
    "        print(\"人\")"
   ]
  },
  {
   "cell_type": "code",
   "execution_count": 15,
   "id": "0c0d0c45",
   "metadata": {},
   "outputs": [
    {
     "name": "stdout",
     "output_type": "stream",
     "text": [
      "學生等級:優\n"
     ]
    }
   ],
   "source": [
    "score=int(input(\"請輸入學生分數\"))\n",
    "if score>100 or score<0:\n",
    "    \"數值錯誤\"\n",
    "    exit\n",
    "else:\n",
    "    if score>=80:\n",
    "        grade=\"優\"\n",
    "    else:\n",
    "        if score>=60:\n",
    "            grade=\"及格\"\n",
    "        else:\n",
    "            grade=\"不及格\"\n",
    "print(f\"學生等級:{grade}\")"
   ]
  },
  {
   "cell_type": "code",
   "execution_count": 16,
   "id": "4907805d",
   "metadata": {},
   "outputs": [
    {
     "name": "stdout",
     "output_type": "stream",
     "text": [
      "學生等級:優\n"
     ]
    }
   ],
   "source": [
    "score=int(input(\"請輸入分數:\"))\n",
    "if score:\n",
    "    grade=\"優\"\n",
    "elif score>=80:\n",
    "    grade=\"甲\"\n",
    "elif score>=70:\n",
    "    grade=\"乙\"\n",
    "elif score>=60:\n",
    "    grade=\"丙\"\n",
    "else :\n",
    "    grade=\"丁\"\n",
    "print(f\"學生等級:{grade}\")"
   ]
  },
  {
   "cell_type": "code",
   "execution_count": null,
   "id": "a3a19ccb",
   "metadata": {},
   "outputs": [],
   "source": [
    "money:int = int(input(\"請輸入購買金額:\"))\n",
    "if money < 10000:\n",
    "    pay_money:int = money \n",
    "\n",
    "print(f\"實付金額是:pay_money\")"
   ]
  },
  {
   "cell_type": "code",
   "execution_count": 22,
   "id": "5a5b524b",
   "metadata": {},
   "outputs": [
    {
     "name": "stdout",
     "output_type": "stream",
     "text": [
      "您的BMI值為19.9,體重正常\n"
     ]
    }
   ],
   "source": [
    "c=int(input(\"請輸入身高:\"))/100\n",
    "k=int(input(\"請輸入體重:\"))\n",
    "bmi=round(k/c**2,ndigits=1)\n",
    "if 27>bmi>=24:\n",
    "    g=\"體重過重\"\n",
    "elif 30>bmi>=27:\n",
    "    g=\"輕度肥胖\"\n",
    "elif 35>bmi>=30:\n",
    "    g=\"中度肥胖\"\n",
    "elif 35<=bmi:\n",
    "    g=\"重度肥胖\"\n",
    "elif 18.5>bmi:\n",
    "    g=\"體重過輕\"\n",
    "else:\n",
    "    g=\"體重正常\"\n",
    "print(f\"您的BMI值為{bmi},{g}\")"
   ]
  },
  {
   "cell_type": "code",
   "execution_count": null,
   "id": "59aa6e65",
   "metadata": {},
   "outputs": [],
   "source": [
    "chinese = int(input(\"請輸入國文分數\"))\n",
    "math = int(input(\"請輸入數學分數\"))\n",
    "bonus = 0\n",
    "if chinese == 100:\n",
    "    if math == 100:\n",
    "        bonus = 1000\n",
    "    else:\n",
    "        bonus = 500\n",
    "elif math == 100:\n",
    "    bonus = 500\n",
    "\n",
    "print(f\"獎金:{bonus}\")"
   ]
  },
  {
   "cell_type": "code",
   "execution_count": null,
   "id": "5987bbf1",
   "metadata": {},
   "outputs": [],
   "source": [
    "chinese = int(input(\"請輸入國文分數\"))\n",
    "math = int(input(\"請輸入數學分數\"))\n",
    "bonus = 0\n",
    "if chinese == 100 and math == 100:\n",
    "    bonus = 1000\n",
    "elif chinese == 100 or math == 100:\n",
    "    bonus = 500\n",
    "\n",
    "print(f\"獎金:{bonus}\")"
   ]
  },
  {
   "cell_type": "code",
   "execution_count": null,
   "id": "d910ad8f",
   "metadata": {},
   "outputs": [],
   "source": [
    "age = int(input(\"請輸入age:\"))\n",
    "if age < 18:\n",
    "    print(\"不可以考駕照\")\n",
    "else:\n",
    "    print(\"可以考駕照\")"
   ]
  },
  {
   "cell_type": "code",
   "execution_count": null,
   "id": "ac1367cc",
   "metadata": {},
   "outputs": [],
   "source": [
    "age = int(input(\"請輸入age:\"))\n",
    "if not age < 18:\n",
    "    print(\"可以考駕照\")\n",
    "else:\n",
    "    print(\"不可以考駕照\")\n",
    "    "
   ]
  },
  {
   "cell_type": "code",
   "execution_count": null,
   "id": "ee03a079",
   "metadata": {},
   "outputs": [],
   "source": []
  }
 ],
 "metadata": {
  "kernelspec": {
   "display_name": "base",
   "language": "python",
   "name": "python3"
  },
  "language_info": {
   "codemirror_mode": {
    "name": "ipython",
    "version": 3
   },
   "file_extension": ".py",
   "mimetype": "text/x-python",
   "name": "python",
   "nbconvert_exporter": "python",
   "pygments_lexer": "ipython3",
   "version": "3.12.7"
  }
 },
 "nbformat": 4,
 "nbformat_minor": 5
}
