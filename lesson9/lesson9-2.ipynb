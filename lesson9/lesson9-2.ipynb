{
 "cells": [
  {
   "cell_type": "code",
   "execution_count": 25,
   "id": "b7e98fa9",
   "metadata": {},
   "outputs": [],
   "source": [
    "from dataclasses import dataclass\n",
    "\n",
    "@dataclass\n",
    "class Student:\n",
    "    name:str\n",
    "    chinese:int\n",
    "    english:int\n",
    "    math:int\n",
    "\n",
    "    @property\n",
    "    def sum(self):\n",
    "        return self.chinese+self.english+self.math\n",
    "    \n",
    "    def average(self):\n",
    "        return round(self.sum / 3.0,ndigits=2)"
   ]
  },
  {
   "cell_type": "code",
   "execution_count": 26,
   "id": "d4b5102b",
   "metadata": {},
   "outputs": [
    {
     "data": {
      "text/plain": [
       "__main__.Student"
      ]
     },
     "execution_count": 26,
     "metadata": {},
     "output_type": "execute_result"
    }
   ],
   "source": [
    "stu1=Student(name=\"robert\",chinese=90,english=80,math=85)\n",
    "stu2:Student = Student(name=\"jenny\",\n",
    "                       chinese=87,\n",
    "                       english=92,\n",
    "                       math=75)\n",
    "type(stu1)\n",
    "type(stu2)"
   ]
  },
  {
   "cell_type": "code",
   "execution_count": 27,
   "id": "00e3a0a8",
   "metadata": {},
   "outputs": [
    {
     "name": "stdout",
     "output_type": "stream",
     "text": [
      "('robert', 100, 80, 85)\n",
      "265\n",
      "88.33\n"
     ]
    }
   ],
   "source": [
    "stu1.chinese = 100\n",
    "#stu1.sum = 300 一般的property只可以讀,不可以寫入(readonly)\n",
    "print((stu1.name, stu1.chinese, stu1.english, stu1.math)) \n",
    "print(stu1.sum)\n",
    "print(stu1.average()) #呼叫實體方法\n"
   ]
  },
  {
   "cell_type": "code",
   "execution_count": 28,
   "id": "a750dca5",
   "metadata": {},
   "outputs": [
    {
     "name": "stdout",
     "output_type": "stream",
     "text": [
      "('jenny', 87, 92, 75)\n",
      "254\n",
      "84.67\n"
     ]
    }
   ],
   "source": [
    "print((stu2.name, stu2.chinese, stu2.english, stu2.math))\n",
    "print(stu2.sum)\n",
    "print(stu2.average()) #呼叫實體方法"
   ]
  }
 ],
 "metadata": {
  "kernelspec": {
   "display_name": "base",
   "language": "python",
   "name": "python3"
  },
  "language_info": {
   "codemirror_mode": {
    "name": "ipython",
    "version": 3
   },
   "file_extension": ".py",
   "mimetype": "text/x-python",
   "name": "python",
   "nbconvert_exporter": "python",
   "pygments_lexer": "ipython3",
   "version": "3.12.7"
  }
 },
 "nbformat": 4,
 "nbformat_minor": 5
}
