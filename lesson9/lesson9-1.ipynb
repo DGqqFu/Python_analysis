{
 "cells": [
  {
   "cell_type": "code",
   "execution_count": 1,
   "id": "254f1016",
   "metadata": {},
   "outputs": [
    {
     "name": "stdout",
     "output_type": "stream",
     "text": [
      "[1, 3, 5, 7, 9]\n"
     ]
    }
   ],
   "source": [
    "numbers = [1, 2, 3, 4, 5, 6, 7, 8, 9, 10]\n",
    "\n",
    "# def is_odd(num):\n",
    "#     return num % 2 != 0\n",
    "\n",
    "\n",
    "result = filter(lambda num: num%2 != 0, numbers)\n",
    "print(list(result))  # 輸出: [1, 3, 5, 7, 9]"
   ]
  },
  {
   "cell_type": "code",
   "execution_count": 3,
   "id": "63912e46",
   "metadata": {},
   "outputs": [
    {
     "name": "stdout",
     "output_type": "stream",
     "text": [
      "90分以上的人有: 小華 小麗 "
     ]
    }
   ],
   "source": [
    "students:list[dict] = [\n",
    "    {\"name\": \"小明\", \"chinese\": 85, \"english\": 92, \"math\": 78},\n",
    "    {\"name\": \"小華\", \"chinese\": 90, \"english\": 88, \"math\": 95},\n",
    "    {\"name\": \"小美\", \"chinese\": 79, \"english\": 85, \"math\": 90},\n",
    "    {\"name\": \"小強\", \"chinese\": 88, \"english\": 92, \"math\": 87},\n",
    "    {\"name\": \"小麗\", \"chinese\": 95, \"english\": 89, \"math\": 93}\n",
    "]\n",
    "\n",
    "p=list(filter(lambda x:x[\"chinese\"]>=90,students))\n",
    "print(\"90分以上的人有:\",end=\" \")\n",
    "for student in p:\n",
    "    print(student[\"name\"],end=\" \")"
   ]
  },
  {
   "cell_type": "code",
   "execution_count": 1,
   "id": "745d4803",
   "metadata": {},
   "outputs": [
    {
     "name": "stdout",
     "output_type": "stream",
     "text": [
      "<class 'list'>\n"
     ]
    }
   ],
   "source": [
    "students:list[dict] = [\n",
    "    {\"name\": \"小明\", \"chinese\": 85, \"english\": 92, \"math\": 78},\n",
    "    {\"name\": \"小華\", \"chinese\": 90, \"english\": 88, \"math\": 95},\n",
    "    {\"name\": \"小美\", \"chinese\": 79, \"english\": 85, \"math\": 90},\n",
    "    {\"name\": \"小強\", \"chinese\": 88, \"english\": 92, \"math\": 87},\n",
    "    {\"name\": \"小麗\", \"chinese\": 95, \"english\": 89, \"math\": 93}\n",
    "]\n",
    "\n",
    "print(type(students))"
   ]
  },
  {
   "cell_type": "code",
   "execution_count": 3,
   "id": "1d0a948a",
   "metadata": {},
   "outputs": [
    {
     "name": "stdout",
     "output_type": "stream",
     "text": [
      "<class 'list'>\n",
      "<class 'dict'>\n"
     ]
    }
   ],
   "source": [
    "ls1=[1,2,3,4]\n",
    "print(type(ls1))\n",
    "ls2={'a':1,'b':2,'c':3}\n",
    "print(type(ls2))"
   ]
  },
  {
   "cell_type": "code",
   "execution_count": 7,
   "id": "fb8b79ac",
   "metadata": {},
   "outputs": [
    {
     "name": "stdout",
     "output_type": "stream",
     "text": [
      "[1, 2, 3, 4, 5, 6, 7, 8, 9, 10]\n"
     ]
    }
   ],
   "source": [
    "ls3=list(range(1,11))\n",
    "print(ls3)"
   ]
  },
  {
   "cell_type": "code",
   "execution_count": 8,
   "id": "b0c40a2b",
   "metadata": {},
   "outputs": [
    {
     "data": {
      "text/plain": [
       "[]"
      ]
     },
     "execution_count": 8,
     "metadata": {},
     "output_type": "execute_result"
    }
   ],
   "source": [
    "ls4=list()\n",
    "ls4"
   ]
  }
 ],
 "metadata": {
  "kernelspec": {
   "display_name": "base",
   "language": "python",
   "name": "python3"
  },
  "language_info": {
   "codemirror_mode": {
    "name": "ipython",
    "version": 3
   },
   "file_extension": ".py",
   "mimetype": "text/x-python",
   "name": "python",
   "nbconvert_exporter": "python",
   "pygments_lexer": "ipython3",
   "version": "3.12.7"
  }
 },
 "nbformat": 4,
 "nbformat_minor": 5
}
