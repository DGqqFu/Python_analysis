{
 "cells": [
  {
   "cell_type": "code",
   "execution_count": 14,
   "id": "d8045867",
   "metadata": {},
   "outputs": [
    {
     "name": "stdout",
     "output_type": "stream",
     "text": [
      "寬為:345.8\n",
      "高為:154.874\n",
      "面積為:53555.429\n"
     ]
    }
   ],
   "source": [
    "width=345.8\n",
    "height=154.874\n",
    "type(width)\n",
    "type(height)\n",
    "area=width*height\n",
    "print(f\"寬為:{width}\\n高為:{height}\\n面積為:{round(area,ndigits=3)}\")"
   ]
  },
  {
   "cell_type": "code",
   "execution_count": 18,
   "id": "81a25ff8",
   "metadata": {},
   "outputs": [
    {
     "data": {
      "text/plain": [
       "float"
      ]
     },
     "execution_count": 18,
     "metadata": {},
     "output_type": "execute_result"
    }
   ],
   "source": [
    "width=input(\"請輸入矩形的寬:\")\n",
    "type(width)\n",
    "width2=float(width)\n",
    "type(width2)"
   ]
  },
  {
   "cell_type": "code",
   "execution_count": 22,
   "id": "cdb2d3c4",
   "metadata": {},
   "outputs": [
    {
     "name": "stdout",
     "output_type": "stream",
     "text": [
      "500.0\n"
     ]
    }
   ],
   "source": [
    "width=float(input(\"請輸入值:\"))\n",
    "print(width)"
   ]
  }
 ],
 "metadata": {
  "kernelspec": {
   "display_name": "base",
   "language": "python",
   "name": "python3"
  },
  "language_info": {
   "codemirror_mode": {
    "name": "ipython",
    "version": 3
   },
   "file_extension": ".py",
   "mimetype": "text/x-python",
   "name": "python",
   "nbconvert_exporter": "python",
   "pygments_lexer": "ipython3",
   "version": "3.12.7"
  }
 },
 "nbformat": 4,
 "nbformat_minor": 5
}
