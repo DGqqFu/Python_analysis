{
 "cells": [
  {
   "cell_type": "code",
   "execution_count": 5,
   "id": "ef8ccf0c",
   "metadata": {},
   "outputs": [],
   "source": [
    "def menu(wine:str, entree:str, dessert:str):\n",
    "    print(f\"前酒:{wine}\")\n",
    "    print(f\"主菜:{entree}\")\n",
    "    print(f\"甜點:{dessert}\")\n"
   ]
  },
  {
   "cell_type": "code",
   "execution_count": 11,
   "id": "0e6f44fc",
   "metadata": {},
   "outputs": [
    {
     "name": "stdout",
     "output_type": "stream",
     "text": [
      "前酒:白酒\n",
      "主菜:雞排\n",
      "甜點:蛋糕\n"
     ]
    }
   ],
   "source": [
    "menu('白酒','雞排','蛋糕')"
   ]
  },
  {
   "cell_type": "code",
   "execution_count": 7,
   "id": "34fa595e",
   "metadata": {},
   "outputs": [
    {
     "name": "stdout",
     "output_type": "stream",
     "text": [
      "前酒:白酒\n",
      "主菜:雞排\n",
      "甜點:蛋糕\n",
      "前酒:白酒\n",
      "主菜:雞排\n",
      "甜點:蛋糕\n"
     ]
    }
   ],
   "source": [
    "menu(wine='白酒',entree='雞排',dessert='蛋糕')\n",
    "menu(wine='白酒',dessert='蛋糕',entree='雞排')\n"
   ]
  },
  {
   "cell_type": "code",
   "execution_count": 8,
   "id": "797ee9d4",
   "metadata": {},
   "outputs": [
    {
     "name": "stdout",
     "output_type": "stream",
     "text": [
      "前酒:白酒\n",
      "主菜:雞排\n",
      "甜點:蛋糕\n",
      "前酒:白酒\n",
      "主菜:雞排\n",
      "甜點:蛋糕\n"
     ]
    }
   ],
   "source": [
    "menu('白酒',entree='雞排',dessert='蛋糕')\n",
    "menu('白酒',dessert='蛋糕',entree='雞排')"
   ]
  },
  {
   "cell_type": "code",
   "execution_count": 13,
   "id": "fe7aec48",
   "metadata": {},
   "outputs": [],
   "source": [
    "def menu(wine:str, entree:str, dessert:str='奶昔'):\n",
    "    print(f\"前酒:{wine}\")\n",
    "    print(f\"主菜:{entree}\")\n",
    "    print(f\"甜點:{dessert}\")"
   ]
  },
  {
   "cell_type": "code",
   "execution_count": 14,
   "id": "8d18e960",
   "metadata": {},
   "outputs": [
    {
     "name": "stdout",
     "output_type": "stream",
     "text": [
      "前酒:白酒\n",
      "主菜:雞排\n",
      "甜點:奶昔\n"
     ]
    }
   ],
   "source": [
    "menu('白酒',entree='雞排')\n"
   ]
  },
  {
   "cell_type": "code",
   "execution_count": null,
   "id": "2ddd6734",
   "metadata": {},
   "outputs": [],
   "source": [
    "menu('白酒',dessert='蛋糕',entree='雞排')"
   ]
  },
  {
   "cell_type": "code",
   "execution_count": 15,
   "id": "51711b2d",
   "metadata": {},
   "outputs": [
    {
     "name": "stdout",
     "output_type": "stream",
     "text": [
      "(1, 2, 3, 'a', 'b', 'c')\n"
     ]
    }
   ],
   "source": [
    "def print_args(*args):\n",
    "   print(args)\n",
    "\n",
    "print_args(1, 2, 3, 'a', 'b', 'c')\n"
   ]
  },
  {
   "cell_type": "code",
   "execution_count": 16,
   "id": "d3eff0ab",
   "metadata": {},
   "outputs": [
    {
     "name": "stdout",
     "output_type": "stream",
     "text": [
      "{'one': 1, 'two': 2, 'three': 3, 'four': 4}\n"
     ]
    }
   ],
   "source": [
    "def print_kwargs(**kwargs):\n",
    "   print(kwargs)\n",
    "\n",
    "\n",
    "print_kwargs(one=1, two=2, three=3, four=4)\n"
   ]
  },
  {
   "cell_type": "code",
   "execution_count": 17,
   "id": "5df52622",
   "metadata": {},
   "outputs": [
    {
     "name": "stdout",
     "output_type": "stream",
     "text": [
      "(1, 2, 3, 'a', 'b', 'c')\n",
      "{'one': 1, 'two': 2, 'three': 3, 'four': 4}\n"
     ]
    }
   ],
   "source": [
    "def print_all(*args,**kwargs):\n",
    "    print(args)\n",
    "    print(kwargs)\n",
    "\n",
    "print_all(1, 2, 3, 'a', 'b', 'c',one=1,two=2,three=3, four=4)\n"
   ]
  },
  {
   "cell_type": "code",
   "execution_count": 18,
   "id": "1175bcb2",
   "metadata": {},
   "outputs": [
    {
     "name": "stdout",
     "output_type": "stream",
     "text": [
      "1 2 3 4 5\n",
      "\n",
      "1-2-3-4-5\n",
      "1-2-3-4-5.\n"
     ]
    }
   ],
   "source": [
    "print(1, 2, 3, 4, 5)\n",
    "print()\n",
    "print(1, 2, 3, 4, 5,sep='-')\n",
    "print(1, 2, 3, 4, 5,end='.\\n',sep='-')"
   ]
  },
  {
   "cell_type": "code",
   "execution_count": 19,
   "id": "bbd13963",
   "metadata": {},
   "outputs": [
    {
     "data": {
      "text/plain": [
       "1"
      ]
     },
     "execution_count": 19,
     "metadata": {},
     "output_type": "execute_result"
    }
   ],
   "source": [
    "min((1, 2, 3, 4, 5))\n",
    "\n",
    "min(1, 2, 3, 4, 5)\n"
   ]
  }
 ],
 "metadata": {
  "kernelspec": {
   "display_name": "base",
   "language": "python",
   "name": "python3"
  },
  "language_info": {
   "codemirror_mode": {
    "name": "ipython",
    "version": 3
   },
   "file_extension": ".py",
   "mimetype": "text/x-python",
   "name": "python",
   "nbconvert_exporter": "python",
   "pygments_lexer": "ipython3",
   "version": "3.12.7"
  }
 },
 "nbformat": 4,
 "nbformat_minor": 5
}
