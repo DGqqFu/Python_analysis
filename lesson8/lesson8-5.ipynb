{
 "cells": [
  {
   "cell_type": "code",
   "execution_count": 1,
   "id": "e6515027",
   "metadata": {},
   "outputs": [],
   "source": [
    "#1班有5個學生,每個學生有4個資料\n",
    "students:list[dict] = [\n",
    "    {\"name\": \"小明\", \"chinese\": 85, \"english\": 92, \"math\": 78},\n",
    "    {\"name\": \"小華\", \"chinese\": 90, \"english\": 88, \"math\": 95},\n",
    "    {\"name\": \"小美\", \"chinese\": 79, \"english\": 85, \"math\": 90},\n",
    "    {\"name\": \"小強\", \"chinese\": 88, \"english\": 92, \"math\": 87},\n",
    "    {\"name\": \"小麗\", \"chinese\": 95, \"english\": 89, \"math\": 93}\n",
    "]"
   ]
  },
  {
   "cell_type": "code",
   "execution_count": null,
   "id": "d6b9677a",
   "metadata": {},
   "outputs": [
    {
     "name": "stdout",
     "output_type": "stream",
     "text": [
      "小明\n",
      "國文:85\n",
      "英文:92\n",
      "數學:78\n",
      "===============\n",
      "小華\n",
      "國文:90\n",
      "英文:88\n",
      "數學:95\n",
      "===============\n",
      "小美\n",
      "國文:79\n",
      "英文:85\n",
      "數學:90\n",
      "===============\n",
      "小強\n",
      "國文:88\n",
      "英文:92\n",
      "數學:87\n",
      "===============\n",
      "小麗\n",
      "國文:95\n",
      "英文:89\n",
      "數學:93\n",
      "===============\n"
     ]
    }
   ],
   "source": [
    "for student in students:\n",
    "    print(student['name'])\n",
    "    print(f'國文:{student['chinese']}')\n",
    "    print(f'英文:{student['english']}')\n",
    "    print(f'數學:{student['math']}')\n",
    "    \n",
    "    print(\"===============\")\n"
   ]
  },
  {
   "cell_type": "code",
   "execution_count": 16,
   "id": "82e7f3c6",
   "metadata": {},
   "outputs": [
    {
     "name": "stdout",
     "output_type": "stream",
     "text": [
      "90分以上的人有:小華 小麗 "
     ]
    }
   ],
   "source": [
    "students:list[dict] = [\n",
    "    {\"name\": \"小明\", \"chinese\": 85, \"english\": 92, \"math\": 78},\n",
    "    {\"name\": \"小華\", \"chinese\": 90, \"english\": 88, \"math\": 95},\n",
    "    {\"name\": \"小美\", \"chinese\": 79, \"english\": 85, \"math\": 90},\n",
    "    {\"name\": \"小強\", \"chinese\": 88, \"english\": 92, \"math\": 87},\n",
    "    {\"name\": \"小麗\", \"chinese\": 95, \"english\": 89, \"math\": 93}\n",
    "]\n",
    "\n",
    "p=list(filter(lambda x: x['chinese']>=90,students))\n",
    "\n",
    "print(\"90分以上的人有:\",end='')\n",
    "for student in p:\n",
    "    print(student[\"name\"],end=' ')\n"
   ]
  }
 ],
 "metadata": {
  "kernelspec": {
   "display_name": "base",
   "language": "python",
   "name": "python3"
  },
  "language_info": {
   "codemirror_mode": {
    "name": "ipython",
    "version": 3
   },
   "file_extension": ".py",
   "mimetype": "text/x-python",
   "name": "python",
   "nbconvert_exporter": "python",
   "pygments_lexer": "ipython3",
   "version": "3.12.7"
  }
 },
 "nbformat": 4,
 "nbformat_minor": 5
}
