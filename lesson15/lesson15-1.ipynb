{
 "cells": [
  {
   "cell_type": "markdown",
   "id": "81cc2559",
   "metadata": {},
   "source": [
    "#https://www.perplexity.ai/search/0638400d-59de-4d83-8e38-0cb807daf590"
   ]
  },
  {
   "cell_type": "code",
   "execution_count": 12,
   "id": "cb7df48d",
   "metadata": {},
   "outputs": [],
   "source": [
    "import numpy as np \n",
    "from numpy import ndarray\n",
    "a:ndarray=np.arange(1000000)\n",
    "l=list(range(1000000))\n",
    "my_array:ndarray = np.arange(1000000)\n",
    "my_list = list(range(1000000))\n"
   ]
  },
  {
   "cell_type": "code",
   "execution_count": 14,
   "id": "47a7aced",
   "metadata": {},
   "outputs": [
    {
     "name": "stdout",
     "output_type": "stream",
     "text": [
      "CPU times: total: 0 ns\n",
      "Wall time: 0 ns\n"
     ]
    }
   ],
   "source": [
    "%time\n",
    "\n",
    "for c in range(10) :\n",
    "    l=[x*2 for x in l]"
   ]
  },
  {
   "cell_type": "code",
   "execution_count": 15,
   "id": "83fb0aa8",
   "metadata": {},
   "outputs": [
    {
     "name": "stdout",
     "output_type": "stream",
     "text": [
      "CPU times: total: 0 ns\n",
      "Wall time: 0 ns\n"
     ]
    }
   ],
   "source": [
    "%time \n",
    "\n",
    "for _ in range(10):\n",
    "    #list的comprehension,list綜合表達式\n",
    "    my_lists = [x*2 for x in my_list]"
   ]
  },
  {
   "cell_type": "code",
   "execution_count": 18,
   "id": "959b0b96",
   "metadata": {},
   "outputs": [
    {
     "name": "stdout",
     "output_type": "stream",
     "text": [
      "CPU times: total: 31.2 ms\n",
      "Wall time: 31.8 ms\n"
     ]
    }
   ],
   "source": [
    "%time for c in range(10):my_array2=a*2"
   ]
  },
  {
   "cell_type": "code",
   "execution_count": 16,
   "id": "31485c87",
   "metadata": {},
   "outputs": [
    {
     "name": "stdout",
     "output_type": "stream",
     "text": [
      "CPU times: total: 31.2 ms\n",
      "Wall time: 38.2 ms\n"
     ]
    }
   ],
   "source": [
    "%time for _ in range(10): my_array2 = my_array * 2"
   ]
  },
  {
   "cell_type": "code",
   "execution_count": 32,
   "id": "de5ecb2c",
   "metadata": {},
   "outputs": [
    {
     "name": "stdout",
     "output_type": "stream",
     "text": [
      "[[ 87  93  62  58  59]\n",
      " [ 61  55  65  50  66]\n",
      " [ 51  62  57  95  56]\n",
      " [ 75 100  70  87  68]\n",
      " [ 70  61  92  78  79]\n",
      " [ 64 100  54  73  73]\n",
      " [ 91  99  80  82  72]\n",
      " [ 63  91  59  57  72]\n",
      " [ 51  50  67  58  74]\n",
      " [ 63  97  92  58  80]\n",
      " [ 57  53  56  71  99]\n",
      " [ 53  54  74  99  93]\n",
      " [ 62  76  66  95  91]\n",
      " [ 68  65  50  54  75]\n",
      " [ 97  84  73  57  76]\n",
      " [ 75  90  72  59  53]\n",
      " [ 89  73  86  77  87]\n",
      " [ 69  88  58  82  84]\n",
      " [ 60  73  65  97  73]\n",
      " [ 75  57  78  60  96]\n",
      " [ 82  74  73  51  99]\n",
      " [ 63  53  50  63  56]\n",
      " [ 71  56  52  62  77]\n",
      " [ 71  61  57  63  58]\n",
      " [ 61  62  93  70  80]\n",
      " [ 86  89  57  95  54]\n",
      " [ 98  68  82  63  60]\n",
      " [ 73  67  57  74  60]\n",
      " [ 78  70  82  62  51]\n",
      " [ 80  91  74  68  83]\n",
      " [ 52  94  78  89  84]\n",
      " [ 60  82  91  68  72]\n",
      " [ 56  52  57  89  98]\n",
      " [ 65  55  67  92  70]\n",
      " [ 98  72  87  63  99]\n",
      " [100  83  70  60  82]\n",
      " [ 75  71  89  82  69]\n",
      " [ 75  99  64  63  70]\n",
      " [ 93  56  63  65  74]\n",
      " [ 59  52  57  55  86]\n",
      " [ 87  71  90  63  77]\n",
      " [ 99  99  97  63  90]\n",
      " [ 64  95  73  66  78]\n",
      " [ 92  95  53  52  64]\n",
      " [ 96  50  79  61  85]\n",
      " [ 79  83  52  70  69]\n",
      " [ 98  82  78  68  81]\n",
      " [ 78  80  60  58  95]\n",
      " [ 85  82  58  70  63]\n",
      " [100  65  91  50  94]]\n"
     ]
    }
   ],
   "source": [
    "np.random.seed(1)\n",
    "s=np.random.randint(50,101,(50,5))\n",
    "print(s)"
   ]
  },
  {
   "cell_type": "code",
   "execution_count": 35,
   "id": "19c0278e",
   "metadata": {},
   "outputs": [
    {
     "data": {
      "text/plain": [
       "dtype('int32')"
      ]
     },
     "execution_count": 35,
     "metadata": {},
     "output_type": "execute_result"
    }
   ],
   "source": [
    "s.ndim\n",
    "s.shape\n",
    "s.size\n",
    "s.dtype"
   ]
  },
  {
   "cell_type": "code",
   "execution_count": 34,
   "id": "82ff244e",
   "metadata": {},
   "outputs": [
    {
     "data": {
      "text/plain": [
       "np.int32(66)"
      ]
     },
     "execution_count": 34,
     "metadata": {},
     "output_type": "execute_result"
    }
   ],
   "source": [
    "s[1][4]"
   ]
  },
  {
   "cell_type": "code",
   "execution_count": 42,
   "id": "4c861226",
   "metadata": {},
   "outputs": [
    {
     "data": {
      "text/plain": [
       "array([[87, 93, 62, 58, 59]], dtype=int32)"
      ]
     },
     "execution_count": 42,
     "metadata": {},
     "output_type": "execute_result"
    }
   ],
   "source": [
    "s[0] #shape(5,)\n",
    "s[0,:] #shape(5,0)\n",
    "s[0:1,:] #shape(1,5)"
   ]
  },
  {
   "cell_type": "code",
   "execution_count": 48,
   "id": "155818e4",
   "metadata": {},
   "outputs": [
    {
     "data": {
      "text/plain": [
       "array([[87, 93, 62, 58, 59],\n",
       "       [61, 55, 65, 50, 66]], dtype=int32)"
      ]
     },
     "execution_count": 48,
     "metadata": {},
     "output_type": "execute_result"
    }
   ],
   "source": [
    "s[:2]\n",
    "s[:2,:]\n",
    "s[(0,1),:]"
   ]
  },
  {
   "cell_type": "code",
   "execution_count": 45,
   "id": "6da7c4b9",
   "metadata": {},
   "outputs": [
    {
     "data": {
      "text/plain": [
       "array([[87, 93, 62, 58, 59],\n",
       "       [61, 55, 65, 50, 66],\n",
       "       [70, 61, 92, 78, 79]], dtype=int32)"
      ]
     },
     "execution_count": 45,
     "metadata": {},
     "output_type": "execute_result"
    }
   ],
   "source": [
    "s[(0,1,4),:]"
   ]
  },
  {
   "cell_type": "code",
   "execution_count": 49,
   "id": "578ecbd9",
   "metadata": {},
   "outputs": [
    {
     "data": {
      "text/plain": [
       "array([[ 87,  93],\n",
       "       [ 61,  55],\n",
       "       [ 51,  62],\n",
       "       [ 75, 100],\n",
       "       [ 70,  61],\n",
       "       [ 64, 100],\n",
       "       [ 91,  99],\n",
       "       [ 63,  91],\n",
       "       [ 51,  50],\n",
       "       [ 63,  97],\n",
       "       [ 57,  53],\n",
       "       [ 53,  54],\n",
       "       [ 62,  76],\n",
       "       [ 68,  65],\n",
       "       [ 97,  84],\n",
       "       [ 75,  90],\n",
       "       [ 89,  73],\n",
       "       [ 69,  88],\n",
       "       [ 60,  73],\n",
       "       [ 75,  57],\n",
       "       [ 82,  74],\n",
       "       [ 63,  53],\n",
       "       [ 71,  56],\n",
       "       [ 71,  61],\n",
       "       [ 61,  62],\n",
       "       [ 86,  89],\n",
       "       [ 98,  68],\n",
       "       [ 73,  67],\n",
       "       [ 78,  70],\n",
       "       [ 80,  91],\n",
       "       [ 52,  94],\n",
       "       [ 60,  82],\n",
       "       [ 56,  52],\n",
       "       [ 65,  55],\n",
       "       [ 98,  72],\n",
       "       [100,  83],\n",
       "       [ 75,  71],\n",
       "       [ 75,  99],\n",
       "       [ 93,  56],\n",
       "       [ 59,  52],\n",
       "       [ 87,  71],\n",
       "       [ 99,  99],\n",
       "       [ 64,  95],\n",
       "       [ 92,  95],\n",
       "       [ 96,  50],\n",
       "       [ 79,  83],\n",
       "       [ 98,  82],\n",
       "       [ 78,  80],\n",
       "       [ 85,  82],\n",
       "       [100,  65]], dtype=int32)"
      ]
     },
     "execution_count": 49,
     "metadata": {},
     "output_type": "execute_result"
    }
   ],
   "source": [
    "s[:,:2]"
   ]
  },
  {
   "cell_type": "code",
   "execution_count": 50,
   "id": "96d25d1f",
   "metadata": {},
   "outputs": [
    {
     "data": {
      "text/plain": [
       "array([[62, 58, 59],\n",
       "       [65, 50, 66],\n",
       "       [57, 95, 56],\n",
       "       [70, 87, 68],\n",
       "       [92, 78, 79],\n",
       "       [54, 73, 73],\n",
       "       [80, 82, 72],\n",
       "       [59, 57, 72],\n",
       "       [67, 58, 74],\n",
       "       [92, 58, 80],\n",
       "       [56, 71, 99],\n",
       "       [74, 99, 93],\n",
       "       [66, 95, 91],\n",
       "       [50, 54, 75],\n",
       "       [73, 57, 76],\n",
       "       [72, 59, 53],\n",
       "       [86, 77, 87],\n",
       "       [58, 82, 84],\n",
       "       [65, 97, 73],\n",
       "       [78, 60, 96],\n",
       "       [73, 51, 99],\n",
       "       [50, 63, 56],\n",
       "       [52, 62, 77],\n",
       "       [57, 63, 58],\n",
       "       [93, 70, 80],\n",
       "       [57, 95, 54],\n",
       "       [82, 63, 60],\n",
       "       [57, 74, 60],\n",
       "       [82, 62, 51],\n",
       "       [74, 68, 83]], dtype=int32)"
      ]
     },
     "execution_count": 50,
     "metadata": {},
     "output_type": "execute_result"
    }
   ],
   "source": [
    "s[:30,-3:]"
   ]
  },
  {
   "cell_type": "markdown",
   "id": "c67679b7",
   "metadata": {},
   "source": [
    "ndarray的統計的實體方法\n",
    "sum()\n",
    "min()\n",
    "max()\n",
    "mean()"
   ]
  },
  {
   "cell_type": "code",
   "execution_count": null,
   "id": "75756f16",
   "metadata": {},
   "outputs": [],
   "source": []
  },
  {
   "cell_type": "code",
   "execution_count": 56,
   "id": "3516deeb",
   "metadata": {},
   "outputs": [
    {
     "data": {
      "text/plain": [
       "array([359, 297, 321, 400, 380, 364, 424, 342, 300, 390, 336, 373, 390,\n",
       "       312, 387, 349, 412, 381, 368, 366, 379, 285, 318, 310, 366, 381,\n",
       "       371, 331, 343, 396, 397, 373, 352, 349, 419, 395, 386, 371, 351,\n",
       "       309, 388, 448, 376, 356, 371, 353, 407, 371, 358, 400])"
      ]
     },
     "execution_count": 56,
     "metadata": {},
     "output_type": "execute_result"
    }
   ],
   "source": [
    "s.sum(axis=1)\n",
    "np.sum(s,axis=1)"
   ]
  },
  {
   "cell_type": "code",
   "execution_count": 53,
   "id": "d56b4237",
   "metadata": {},
   "outputs": [
    {
     "data": {
      "text/plain": [
       "array([71.8, 59.4, 64.2, 80. , 76. , 72.8, 84.8, 68.4, 60. , 78. , 67.2,\n",
       "       74.6, 78. , 62.4, 77.4, 69.8, 82.4, 76.2, 73.6, 73.2, 75.8, 57. ,\n",
       "       63.6, 62. , 73.2, 76.2, 74.2, 66.2, 68.6, 79.2])"
      ]
     },
     "execution_count": 53,
     "metadata": {},
     "output_type": "execute_result"
    }
   ],
   "source": [
    "s[:30].mean(axis=1)"
   ]
  },
  {
   "cell_type": "code",
   "execution_count": 54,
   "id": "0d8b2b41",
   "metadata": {},
   "outputs": [
    {
     "data": {
      "text/plain": [
       "np.int32(51)"
      ]
     },
     "execution_count": 54,
     "metadata": {},
     "output_type": "execute_result"
    }
   ],
   "source": [
    "s[:,0].max(axis=0)\n",
    "s[:,0].min(axis=0)"
   ]
  }
 ],
 "metadata": {
  "kernelspec": {
   "display_name": "myenv",
   "language": "python",
   "name": "python3"
  },
  "language_info": {
   "codemirror_mode": {
    "name": "ipython",
    "version": 3
   },
   "file_extension": ".py",
   "mimetype": "text/x-python",
   "name": "python",
   "nbconvert_exporter": "python",
   "pygments_lexer": "ipython3",
   "version": "3.10.16"
  }
 },
 "nbformat": 4,
 "nbformat_minor": 5
}
